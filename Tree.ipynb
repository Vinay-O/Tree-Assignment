{
 "cells": [
  {
   "cell_type": "code",
   "execution_count": 4,
   "id": "4bee2fe9",
   "metadata": {},
   "outputs": [
    {
     "name": "stdout",
     "output_type": "stream",
     "text": [
      "2\n",
      "5\n",
      "7\n",
      "10\n",
      "12\n",
      "15\n",
      "17\n"
     ]
    }
   ],
   "source": [
    "class BinaryTree:\n",
    "    def __init__(self, value):\n",
    "        self.value = value\n",
    "        self.left = None\n",
    "        self.right = None\n",
    "\n",
    "    def insert(self, value):\n",
    "        if value < self.value:\n",
    "            if self.left is None:\n",
    "                self.left = BinaryTree(value)\n",
    "            else:\n",
    "                self.left.insert(value)\n",
    "        else:\n",
    "            if self.right is None:\n",
    "                self.right = BinaryTree(value)\n",
    "            else:\n",
    "                self.right.insert(value)\n",
    "\n",
    "    def print_tree(self):\n",
    "        if self.left is not None:\n",
    "            self.left.print_tree()\n",
    "        print(self.value)\n",
    "        if self.right is not None:\n",
    "            self.right.print_tree()\n",
    "\n",
    "\n",
    "def main():\n",
    "    root = BinaryTree(10)\n",
    "    root.insert(5)\n",
    "    root.insert(15)\n",
    "    root.insert(2)\n",
    "    root.insert(7)\n",
    "    root.insert(12)\n",
    "    root.insert(17)\n",
    "    root.print_tree()\n",
    "\n",
    "main()\n"
   ]
  },
  {
   "cell_type": "code",
   "execution_count": 5,
   "id": "51325d2a",
   "metadata": {},
   "outputs": [
    {
     "name": "stdout",
     "output_type": "stream",
     "text": [
      "3\n"
     ]
    }
   ],
   "source": [
    "def height(root):\n",
    "    if root is None:\n",
    "        return 0\n",
    "    return max(height(root.left), height(root.right)) + 1\n",
    "\n",
    "\n",
    "def main():\n",
    "    root = BinaryTree(10)\n",
    "    root.insert(5)\n",
    "    root.insert(15)\n",
    "    root.insert(2)\n",
    "    root.insert(7)\n",
    "    root.insert(12)\n",
    "    root.insert(17)\n",
    "    print(height(root))\n",
    "\n",
    "main()\n"
   ]
  },
  {
   "cell_type": "code",
   "execution_count": 3,
   "id": "3d872b2a",
   "metadata": {},
   "outputs": [
    {
     "name": "stdout",
     "output_type": "stream",
     "text": [
      "2\n",
      "5\n",
      "7\n",
      "10\n",
      "12\n",
      "15\n",
      "17\n"
     ]
    }
   ],
   "source": [
    "def in_order(root):\n",
    "    if root is None:\n",
    "        return\n",
    "    in_order(root.left)\n",
    "    print(root.value)\n",
    "    in_order(root.right)\n",
    "\n",
    "\n",
    "def main():\n",
    "    root = BinaryTree(10)\n",
    "    root.insert(5)\n",
    "    root.insert(15)\n",
    "    root.insert(2)\n",
    "    root.insert(7)\n",
    "    root.insert(12)\n",
    "    root.insert(17)\n",
    "    in_order(root)\n",
    "\n",
    "main()\n"
   ]
  },
  {
   "cell_type": "code",
   "execution_count": 6,
   "id": "b15ad1e1",
   "metadata": {},
   "outputs": [
    {
     "name": "stdout",
     "output_type": "stream",
     "text": [
      "2\n",
      "7\n",
      "12\n",
      "17\n"
     ]
    }
   ],
   "source": [
    "def print_leaves(root):\n",
    "    if root is None:\n",
    "        return\n",
    "\n",
    "    if root.left is None and root.right is None:\n",
    "        print(root.value)\n",
    "\n",
    "    print_leaves(root.left)\n",
    "    print_leaves(root.right)\n",
    "\n",
    "\n",
    "def main():\n",
    "    root = BinaryTree(10)\n",
    "    root.insert(5)\n",
    "    root.insert(15)\n",
    "    root.insert(2)\n",
    "    root.insert(7)\n",
    "    root.insert(12)\n",
    "    root.insert(17)\n",
    "    print_leaves(root)\n",
    "\n",
    "main()\n"
   ]
  },
  {
   "cell_type": "code",
   "execution_count": 9,
   "id": "8f00c68b",
   "metadata": {},
   "outputs": [
    {
     "name": "stdout",
     "output_type": "stream",
     "text": [
      "BFS:\n",
      "10\n",
      "5\n",
      "15\n",
      "2\n",
      "7\n",
      "12\n",
      "17\n",
      "DFS:\n",
      "10\n",
      "15\n",
      "17\n",
      "12\n",
      "5\n",
      "7\n",
      "2\n"
     ]
    }
   ],
   "source": [
    "class Node:\n",
    "    def __init__(self, value):\n",
    "        self.value = value\n",
    "        self.left = None\n",
    "        self.right = None\n",
    "\n",
    "    def __repr__(self):\n",
    "        return str(self.value)\n",
    "\n",
    "\n",
    "def bfs(root):\n",
    "    queue = []\n",
    "    queue.append(root)\n",
    "    while queue:\n",
    "        node = queue.pop(0)\n",
    "        print(node)\n",
    "        if node.left:\n",
    "            queue.append(node.left)\n",
    "        if node.right:\n",
    "            queue.append(node.right)\n",
    "\n",
    "\n",
    "def dfs(root):\n",
    "    stack = []\n",
    "    stack.append(root)\n",
    "    while stack:\n",
    "        node = stack.pop()\n",
    "        print(node)\n",
    "        if node.left:\n",
    "            stack.append(node.left)\n",
    "        if node.right:\n",
    "            stack.append(node.right)\n",
    "\n",
    "\n",
    "def main():\n",
    "    root = Node(10)\n",
    "    root.left = Node(5)\n",
    "    root.right = Node(15)\n",
    "    root.left.left = Node(2)\n",
    "    root.left.right = Node(7)\n",
    "    root.right.left = Node(12)\n",
    "    root.right.right = Node(17)\n",
    "    print(\"BFS:\")\n",
    "    bfs(root)\n",
    "    print(\"DFS:\")\n",
    "    dfs(root)\n",
    "\n",
    "main()\n"
   ]
  },
  {
   "cell_type": "code",
   "execution_count": 10,
   "id": "74beda74",
   "metadata": {},
   "outputs": [
    {
     "name": "stdout",
     "output_type": "stream",
     "text": [
      "14\n"
     ]
    }
   ],
   "source": [
    "def sum_of_left_leaves(root):\n",
    "    if root is None:\n",
    "        return 0\n",
    "\n",
    "    if root.left is not None and root.left.left is None and root.left.right is None:\n",
    "        return root.left.value\n",
    "\n",
    "    return sum_of_left_leaves(root.left) + sum_of_left_leaves(root.right)\n",
    "\n",
    "\n",
    "def main():\n",
    "    root = BinaryTree(10)\n",
    "    root.left = BinaryTree(5)\n",
    "    root.right = BinaryTree(15)\n",
    "    root.left.left = BinaryTree(2)\n",
    "    root.left.right = BinaryTree(7)\n",
    "    root.right.left = BinaryTree(12)\n",
    "    root.right.right = BinaryTree(17)\n",
    "    print(sum_of_left_leaves(root))\n",
    "\n",
    "main()\n"
   ]
  },
  {
   "cell_type": "code",
   "execution_count": 11,
   "id": "127d3b92",
   "metadata": {},
   "outputs": [
    {
     "name": "stdout",
     "output_type": "stream",
     "text": [
      "68\n"
     ]
    }
   ],
   "source": [
    "def sum_of_nodes_in_perfect_binary_tree(root):\n",
    "    if root is None:\n",
    "        return 0\n",
    "\n",
    "    if root.left is None and root.right is None:\n",
    "        return root.value\n",
    "\n",
    "    return root.value + sum_of_nodes_in_perfect_binary_tree(root.left) + sum_of_nodes_in_perfect_binary_tree(root.right)\n",
    "\n",
    "\n",
    "def main():\n",
    "    root = BinaryTree(10)\n",
    "    root.left = BinaryTree(5)\n",
    "    root.right = BinaryTree(15)\n",
    "    root.left.left = BinaryTree(2)\n",
    "    root.left.right = BinaryTree(7)\n",
    "    root.right.left = BinaryTree(12)\n",
    "    root.right.right = BinaryTree(17)\n",
    "    print(sum_of_nodes_in_perfect_binary_tree(root))\n",
    "\n",
    "main()\n"
   ]
  },
  {
   "cell_type": "code",
   "execution_count": 12,
   "id": "038f7791",
   "metadata": {},
   "outputs": [
    {
     "name": "stdout",
     "output_type": "stream",
     "text": [
      "1\n"
     ]
    }
   ],
   "source": [
    "def count_subtrees_with_sum_x(root, x):\n",
    "    if root is None:\n",
    "        return 0\n",
    "\n",
    "    count = 0\n",
    "    if root.value == x:\n",
    "        count += 1\n",
    "\n",
    "    left_count = count_subtrees_with_sum_x(root.left, x - root.value)\n",
    "    right_count = count_subtrees_with_sum_x(root.right, x - root.value)\n",
    "\n",
    "    return count + left_count + right_count\n",
    "\n",
    "\n",
    "def main():\n",
    "    root = BinaryTree(10)\n",
    "    root.left = BinaryTree(5)\n",
    "    root.right = BinaryTree(15)\n",
    "    root.left.left = BinaryTree(2)\n",
    "    root.left.right = BinaryTree(7)\n",
    "    root.right.left = BinaryTree(12)\n",
    "    root.right.right = BinaryTree(17)\n",
    "    print(count_subtrees_with_sum_x(root, 17))\n",
    "\n",
    "main()"
   ]
  },
  {
   "cell_type": "code",
   "execution_count": 13,
   "id": "f3a3d747",
   "metadata": {},
   "outputs": [
    {
     "name": "stdout",
     "output_type": "stream",
     "text": [
      "10\n"
     ]
    }
   ],
   "source": [
    "def max_level_sum(root):\n",
    "    if root is None:\n",
    "        return 0\n",
    "\n",
    "    max_sum = float(\"-inf\")\n",
    "    queue = []\n",
    "    queue.append((root, 1))\n",
    "\n",
    "    while queue:\n",
    "        node, level = queue.pop(0)\n",
    "        sum = node.value\n",
    "\n",
    "        if level > max_sum:\n",
    "            max_sum = sum\n",
    "\n",
    "        if node.left:\n",
    "            queue.append((node.left, level + 1))\n",
    "        if node.right:\n",
    "            queue.append((node.right, level + 1))\n",
    "\n",
    "    return max_sum\n",
    "\n",
    "\n",
    "def main():\n",
    "    root = BinaryTree(10)\n",
    "    root.left = BinaryTree(5)\n",
    "    root.right = BinaryTree(15)\n",
    "    root.left.left = BinaryTree(2)\n",
    "    root.left.right = BinaryTree(7)\n",
    "    root.right.left = BinaryTree(12)\n",
    "    root.right.right = BinaryTree(17)\n",
    "    print(max_level_sum(root))\n",
    "\n",
    "main()\n"
   ]
  },
  {
   "cell_type": "code",
   "execution_count": 14,
   "id": "6921c116",
   "metadata": {},
   "outputs": [
    {
     "name": "stdout",
     "output_type": "stream",
     "text": [
      "10\n",
      "2\n",
      "7\n",
      "12\n",
      "17\n"
     ]
    }
   ],
   "source": [
    "def print_nodes_at_odd_levels(root):\n",
    "    if root is None:\n",
    "        return\n",
    "\n",
    "    level = 1\n",
    "    queue = []\n",
    "    queue.append(root)\n",
    "\n",
    "    while queue:\n",
    "        size = len(queue)\n",
    "\n",
    "        for _ in range(size):\n",
    "            node = queue.pop(0)\n",
    "\n",
    "            if level % 2 == 1:\n",
    "                print(node.value)\n",
    "\n",
    "            if node.left:\n",
    "                queue.append(node.left)\n",
    "            if node.right:\n",
    "                queue.append(node.right)\n",
    "\n",
    "        level += 1\n",
    "\n",
    "\n",
    "def main():\n",
    "    root = BinaryTree(10)\n",
    "    root.left = BinaryTree(5)\n",
    "    root.right = BinaryTree(15)\n",
    "    root.left.left = BinaryTree(2)\n",
    "    root.left.right = BinaryTree(7)\n",
    "    root.right.left = BinaryTree(12)\n",
    "    root.right.right = BinaryTree(17)\n",
    "    print_nodes_at_odd_levels(root)\n",
    "\n",
    "main()\n"
   ]
  },
  {
   "cell_type": "code",
   "execution_count": null,
   "id": "912b092e",
   "metadata": {},
   "outputs": [],
   "source": []
  }
 ],
 "metadata": {
  "kernelspec": {
   "display_name": "Python 3 (ipykernel)",
   "language": "python",
   "name": "python3"
  },
  "language_info": {
   "codemirror_mode": {
    "name": "ipython",
    "version": 3
   },
   "file_extension": ".py",
   "mimetype": "text/x-python",
   "name": "python",
   "nbconvert_exporter": "python",
   "pygments_lexer": "ipython3",
   "version": "3.10.9"
  }
 },
 "nbformat": 4,
 "nbformat_minor": 5
}
